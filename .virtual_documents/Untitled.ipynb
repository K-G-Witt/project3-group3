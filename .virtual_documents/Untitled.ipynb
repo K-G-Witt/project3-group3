#Dependencies
import pandas as pd
import numpy as np
import matplotlib.pyplot as plt
import warnings
warnings.filterwarnings('ignore')
import scipy.stats as stats


# Read in dataset for Rates and Trends in Heart Disease Between 1999-2019
path = 'Rates&Trends_In_Heart_Disease&Stroke_Rate_by_100_000_Demographic_Data_Clean.csv'
Heart_disease_df = pd.read_csv(path)
Heart_disease_df["Year"] = Heart_disease_df["Year"].astype(float)
Heart_disease_df.head()


# Drop any rows with null values
Clean_Heart_disease_null = Heart_disease_df.dropna(axis=0, how = "any")
Clean_Heart_disease_null.head()


Heart_disease_rename = Clean_Heart_disease_null.rename(columns = {"LocationAbbr": "US States", "LocationDesc": "US County",\
                                                               "Topic": "Heart Disease Type", "Data_Value_Unit": "Rate per 100,000 population",\
                                                               "Stratification1": "Age range", "Stratification2": "Ethnicity", "Stratification3": "Gender"})
Heart_disease_rename.info()




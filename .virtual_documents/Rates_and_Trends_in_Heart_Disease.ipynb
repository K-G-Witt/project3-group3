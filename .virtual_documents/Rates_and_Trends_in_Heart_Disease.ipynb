#Dependencies
import pandas as pd
import numpy as np
import matplotlib.pyplot as plt
import warnings
warnings.filterwarnings('ignore')
import scipy.stats as stats



# Read in dataset for Rates and Trends in Heart Disease Between 1999-2019
Heart_disease_df = pd.read_csv("Resources/Rates_and_Trends_in_Heart_Disease_2009_2019.csv")
Heart_disease_df["Year"] = Heart_disease_df["Year"].astype(float)
Heart_disease_df.head()


# Get relevant columns
Clean_Heart_disease_df = Heart_disease_df[["Year", "LocationAbbr","LocationDesc", "Topic", "Data_Value_Unit", "Stratification1",\
                                           "Stratification2", "Stratification3", "LocationID"]]

# Drop any rows with null values
Clean_Heart_disease_null = Clean_Heart_disease_df.dropna(axis=0, how = "any")
Clean_Heart_disease_null.head()


# Get a brief summary of the Clean_Heart_disease_null Dataframe
Clean_Heart_disease_null.info()


Heart_disease_rename = Clean_Heart_disease_null.rename(columns = {"LocationAbbr": "US States", "LocationDesc": "US County",\
                                                               "Topic": "Heart Disease Type", "Data_Value_Unit": "Rate per 100,000 population",\
                                                               "Stratification1": "Age range", "Stratification2": "Ethnicity", "Stratification3": "Gender"})
Heart_disease_rename.head()


# Filter the Dataframe to include only the desired years
filtered_Heart_disease_rename = Heart_disease_rename[(Heart_disease_rename['Year'] >= 2009) & (Heart_disease_rename['Year'] <= 2019)]
filtered_Heart_disease_rename.head(20)


filtered




# Import Dependencies
import pandas as pd
import numpy as np
import matplotlib.pyplot as plt
import warnings
warnings.filterwarnings('ignore')
import scipy.stats as stats


# Read in .csv dataset, 1999

path = 'Resources/CDC_Rates_in_Heart_Disease_and_Stroke_Mortality_Among_US_Adults_By_State_Race_Ethnicity_and_Sex_1999.csv'
CVD_1999_df = pd.read_csv(path)
CVD_1999_df["year"] = CVD_1999_df["year"].astype(float)
CVD_1999_df.info()


# Read in .csv dataset, 2000

path = 'Resources/CDC_Rates_in_Heart_Disease_and_Stroke_Mortality_Among_US_Adults_By_State_Race_Ethnicity_and_Sex_2000.csv'
CVD_2000_df = pd.read_csv(path)
CVD_2000_df["year"] = CVD_2000_df["year"].astype(float)
CVD_2000_df.info()


# Read in .csv dataset, 2001

path = 'Resources/CDC_Rates_in_Heart_Disease_and_Stroke_Mortality_Among_US_Adults_By_State_Race_Ethnicity_and_Sex_2001.csv'
CVD_2001_df = pd.read_csv(path)
CVD_2001_df["year"] = CVD_2001_df["year"].astype(float)
CVD_2001_df.info()


# Read in .csv dataset, 2002

path = 'Resources/CDC_Rates_in_Heart_Disease_and_Stroke_Mortality_Among_US_Adults_By_State_Race_Ethnicity_and_Sex_2002.csv'
CVD_2002_df = pd.read_csv(path)
CVD_2002_df["year"] = CVD_2002_df["year"].astype(float)
CVD_2002_df.info()


# Read in .csv dataset, 2003

path = 'Resources/CDC_Rates_in_Heart_Disease_and_Stroke_Mortality_Among_US_Adults_By_State_Race_Ethnicity_and_Sex_2003.csv'
CVD_2003_df = pd.read_csv(path)
CVD_2003_df["year"] = CVD_2003_df["year"].astype(float)
CVD_2003_df.info()


# Read in .csv dataset, 2004

path = 'Resources/CDC_Rates_in_Heart_Disease_and_Stroke_Mortality_Among_US_Adults_By_State_Race_Ethnicity_and_Sex_2004.csv'
CVD_2004_df = pd.read_csv(path)
CVD_2004_df["year"] = CVD_2004_df["year"].astype(float)
CVD_2004_df.info()


# Read in .csv dataset, 2005

path = 'Resources/CDC_Rates_in_Heart_Disease_and_Stroke_Mortality_Among_US_Adults_By_State_Race_Ethnicity_and_Sex_2005.csv'
CVD_2005_df = pd.read_csv(path)
CVD_2005_df["year"] = CVD_2005_df["year"].astype(float)
CVD_2005_df.info()


# Read in .csv dataset, 2006

path = 'Resources/CDC_Rates_in_Heart_Disease_and_Stroke_Mortality_Among_US_Adults_By_State_Race_Ethnicity_and_Sex_2006.csv'
CVD_2006_df = pd.read_csv(path)
CVD_2006_df["year"] = CVD_2006_df["year"].astype(float)
CVD_2006_df.info()


# Read in .csv dataset, 2007

path = 'Resources/CDC_Rates_in_Heart_Disease_and_Stroke_Mortality_Among_US_Adults_By_State_Race_Ethnicity_and_Sex_2007.csv'
CVD_2007_df = pd.read_csv(path)
CVD_2007_df["year"] = CVD_2007_df["year"].astype(float)
CVD_2007_df.info()


# Read in .csv dataset, 2008

path = 'Resources/CDC_Rates_in_Heart_Disease_and_Stroke_Mortality_Among_US_Adults_By_State_Race_Ethnicity_and_Sex_2008.csv'
CVD_2008_df = pd.read_csv(path)
CVD_2008_df["year"] = CVD_2008_df["year"].astype(float)
CVD_2008_df.info()


# Read in .csv dataset, 2009

path = 'Resources/CDC_Rates_in_Heart_Disease_and_Stroke_Mortality_Among_US_Adults_By_State_Race_Ethnicity_and_Sex_2009.csv'
CVD_2009_df = pd.read_csv(path)
CVD_2009_df["year"] = CVD_2009_df["year"].astype(float)
CVD_2009_df.info()


# Read in .csv dataset, 2010

path = 'Resources/CDC_Rates_in_Heart_Disease_and_Stroke_Mortality_Among_US_Adults_By_State_Race_Ethnicity_and_Sex_2010.csv'
CVD_2010_df = pd.read_csv(path)
CVD_2010_df["year"] = CVD_2010_df["year"].astype(float)
CVD_2010_df.info()


# Read in .csv dataset, 2011

path = 'Resources/CDC_Rates_in_Heart_Disease_and_Stroke_Mortality_Among_US_Adults_By_State_Race_Ethnicity_and_Sex_2011.csv'
CVD_2011_df = pd.read_csv(path)
CVD_2011_df["year"] = CVD_2011_df["year"].astype(float)
CVD_2011_df.info()


# Read in .csv dataset, 2012

path = 'Resources/CDC_Rates_in_Heart_Disease_and_Stroke_Mortality_Among_US_Adults_By_State_Race_Ethnicity_and_Sex_2012.csv'
CVD_2012_df = pd.read_csv(path)
CVD_2012_df["year"] = CVD_2012_df["year"].astype(float)
CVD_2012_df.info()


# Read in .csv dataset, 2013

path = 'Resources/CDC_Rates_in_Heart_Disease_and_Stroke_Mortality_Among_US_Adults_By_State_Race_Ethnicity_and_Sex_2013.csv'
CVD_2013_df = pd.read_csv(path)
CVD_2013_df["year"] = CVD_2013_df["year"].astype(float)
CVD_2013_df.info()


# Read in .csv dataset, 2014

path = 'Resources/CDC_Rates_in_Heart_Disease_and_Stroke_Mortality_Among_US_Adults_By_State_Race_Ethnicity_and_Sex_2014.csv'
CVD_2014_df = pd.read_csv(path)
CVD_2014_df["year"] = CVD_2014_df["year"].astype(float)
CVD_2014_df.info()


# Read in .csv dataset, 2015

path = 'Resources/CDC_Rates_in_Heart_Disease_and_Stroke_Mortality_Among_US_Adults_By_State_Race_Ethnicity_and_Sex_2015.csv'
CVD_2015_df = pd.read_csv(path)
CVD_2015_df["year"] = CVD_2015_df["year"].astype(float)
CVD_2015_df.info()


# Read in .csv dataset, 2016

path = 'Resources/CDC_Rates_in_Heart_Disease_and_Stroke_Mortality_Among_US_Adults_By_State_Race_Ethnicity_and_Sex_2016.csv'
CVD_2016_df = pd.read_csv(path)
CVD_2016_df["year"] = CVD_2016_df["year"].astype(float)
CVD_2016_df.info()


# Read in .csv dataset, 2017

path = 'Resources/CDC_Rates_in_Heart_Disease_and_Stroke_Mortality_Among_US_Adults_By_State_Race_Ethnicity_and_Sex_2017.csv'
CVD_2017_df = pd.read_csv(path)
CVD_2017_df["year"] = CVD_2017_df["year"].astype(float)
CVD_2017_df.info()


# Read in .csv dataset, 2018

path = 'Resources/CDC_Rates_in_Heart_Disease_and_Stroke_Mortality_Among_US_Adults_By_State_Race_Ethnicity_and_Sex_2018.csv'
CVD_2018_df = pd.read_csv(path)
CVD_2018_df["year"] = CVD_2018_df["year"].astype(float)
CVD_2018_df.info()


# Read in .csv dataset, 2019

path = 'Resources/CDC_Rates_in_Heart_Disease_and_Stroke_Mortality_Among_US_Adults_By_State_Race_Ethnicity_and_Sex_2019.csv'
CVD_2019_df = pd.read_csv(path)
CVD_2019_df["year"] = CVD_2019_df["year"].astype(float)
CVD_2019_df.info()


# Drop rows with NA values in the 'data_value' column, 1999
Clean_CVD_1999_df = CVD_1999_df.dropna(subset=['data_value'])

# Display the first few rows of the cleaned DataFrame
Clean_CVD_1999_df.head()


# Drop rows with NA values in the 'data_value' column, 2000
Clean_CVD_2000_df = CVD_2000_df.dropna(subset=['data_value'])

# Display the first few rows of the cleaned DataFrame
Clean_CVD_2000_df.head()


# Drop rows with NA values in the 'data_value' column, 2001
Clean_CVD_2001_df = CVD_2001_df.dropna(subset=['data_value'])

# Display the first few rows of the cleaned DataFrame
Clean_CVD_2001_df.head()


# Drop rows with NA values in the 'data_value' column, 2002
Clean_CVD_2002_df = CVD_2002_df.dropna(subset=['data_value'])

# Display the first few rows of the cleaned DataFrame
Clean_CVD_2002_df.head()


# Drop rows with NA values in the 'data_value' column, 2003
Clean_CVD_2003_df = CVD_2003_df.dropna(subset=['data_value'])

# Display the first few rows of the cleaned DataFrame
Clean_CVD_2003_df.head()


# Drop rows with NA values in the 'data_value' column, 2004
Clean_CVD_2004_df = CVD_2004_df.dropna(subset=['data_value'])

# Display the first few rows of the cleaned DataFrame
Clean_CVD_2004_df.head()


# Drop rows with NA values in the 'data_value' column, 2005
Clean_CVD_2005_df = CVD_2005_df.dropna(subset=['data_value'])

# Display the first few rows of the cleaned DataFrame
Clean_CVD_2005_df.head()


# Drop rows with NA values in the 'data_value' column, 2006
Clean_CVD_2006_df = CVD_2006_df.dropna(subset=['data_value'])

# Display the first few rows of the cleaned DataFrame
Clean_CVD_2006_df.head()


# Drop rows with NA values in the 'data_value' column, 2007
Clean_CVD_2007_df = CVD_2007_df.dropna(subset=['data_value'])

# Display the first few rows of the cleaned DataFrame
Clean_CVD_2007_df.head()


# Drop rows with NA values in the 'data_value' column, 2008
Clean_CVD_2008_df = CVD_2008_df.dropna(subset=['data_value'])

# Display the first few rows of the cleaned DataFrame
Clean_CVD_2008_df.head()


# Drop rows with NA values in the 'data_value' column, 2009
Clean_CVD_2009_df = CVD_2009_df.dropna(subset=['data_value'])

# Display the first few rows of the cleaned DataFrame
Clean_CVD_2009_df.head()


# Drop rows with NA values in the 'data_value' column, 2010
Clean_CVD_2010_df = CVD_2010_df.dropna(subset=['data_value'])

# Display the first few rows of the cleaned DataFrame
Clean_CVD_2010_df.head()


# Drop rows with NA values in the 'data_value' column, 2011
Clean_CVD_2011_df = CVD_2011_df.dropna(subset=['data_value'])

# Display the first few rows of the cleaned DataFrame
Clean_CVD_2011_df.head()


# Drop rows with NA values in the 'data_value' column, 2012
Clean_CVD_2012_df = CVD_2012_df.dropna(subset=['data_value'])

# Display the first few rows of the cleaned DataFrame
Clean_CVD_2012_df.head()


# Drop rows with NA values in the 'data_value' column, 2013
Clean_CVD_2013_df = CVD_2013_df.dropna(subset=['data_value'])

# Display the first few rows of the cleaned DataFrame
Clean_CVD_2013_df.head()


# Drop rows with NA values in the 'data_value' column, 2014
Clean_CVD_2014_df = CVD_2014_df.dropna(subset=['data_value'])

# Display the first few rows of the cleaned DataFrame
Clean_CVD_2014_df.head()


# Drop rows with NA values in the 'data_value' column, 2015
Clean_CVD_2015_df = CVD_2015_df.dropna(subset=['data_value'])

# Display the first few rows of the cleaned DataFrame
Clean_CVD_2015_df.head()


# Drop rows with NA values in the 'data_value' column, 2016
Clean_CVD_2016_df = CVD_2016_df.dropna(subset=['data_value'])

# Display the first few rows of the cleaned DataFrame
Clean_CVD_2016_df.head()


# Drop rows with NA values in the 'data_value' column, 2017
Clean_CVD_2017_df = CVD_2017_df.dropna(subset=['data_value'])

# Display the first few rows of the cleaned DataFrame
Clean_CVD_2017_df.head()


# Drop rows with NA values in the 'data_value' column, 2018
Clean_CVD_2018_df = CVD_2018_df.dropna(subset=['data_value'])

# Display the first few rows of the cleaned DataFrame
Clean_CVD_2018_df.head()


# Drop rows with NA values in the 'data_value' column, 2019
Clean_CVD_2019_df = CVD_2019_df.dropna(subset=['data_value'])

# Display the first few rows of the cleaned DataFrame
Clean_CVD_2019_df.head()


# Rename original columns, 1999
Renamed_CVD_1999_df = Clean_CVD_1999_df.rename(columns = {"locationabbr": "US States", 
                                                    "locationdesc": "US County",
                                                    "topic": "CVD Type", 
                                                    "data_value_unit": "Rate per 100,000 population",
                                                    "stratification1": "Age range", 
                                                    "stratification2": "Ethnicity", 
                                                    "stratification3": "Gender"})
Renamed_CVD_1999_df.head()


# Rename original columns, 2000
Renamed_CVD_2000_df = Clean_CVD_2000_df.rename(columns = {"locationabbr": "US States", 
                                                    "locationdesc": "US County",
                                                    "topic": "CVD Type", 
                                                    "data_value_unit": "Rate per 100,000 population",
                                                    "stratification1": "Age range", 
                                                    "stratification2": "Ethnicity", 
                                                    "stratification3": "Gender"})
Renamed_CVD_2000_df.head()


# Rename original columns, 2001
Renamed_CVD_2001_df = Clean_CVD_2001_df.rename(columns = {"locationabbr": "US States", 
                                                    "locationdesc": "US County",
                                                    "topic": "CVD Type", 
                                                    "data_value_unit": "Rate per 100,000 population",
                                                    "stratification1": "Age range", 
                                                    "stratification2": "Ethnicity", 
                                                    "stratification3": "Gender"})
Renamed_CVD_2001_df.head()


# Rename original columns, 2002
Renamed_CVD_2002_df = Clean_CVD_2002_df.rename(columns = {"locationabbr": "US States", 
                                                    "locationdesc": "US County",
                                                    "topic": "CVD Type", 
                                                    "data_value_unit": "Rate per 100,000 population",
                                                    "stratification1": "Age range", 
                                                    "stratification2": "Ethnicity", 
                                                    "stratification3": "Gender"})
Renamed_CVD_2002_df.head()


# Rename original columns, 2003
Renamed_CVD_2003_df = Clean_CVD_2003_df.rename(columns = {"locationabbr": "US States", 
                                                    "locationdesc": "US County",
                                                    "topic": "CVD Type", 
                                                    "data_value_unit": "Rate per 100,000 population",
                                                    "stratification1": "Age range", 
                                                    "stratification2": "Ethnicity", 
                                                    "stratification3": "Gender"})
Renamed_CVD_2003_df.head()


# Rename original columns, 2004
Renamed_CVD_2004_df = Clean_CVD_2004_df.rename(columns = {"locationabbr": "US States", 
                                                    "locationdesc": "US County",
                                                    "topic": "CVD Type", 
                                                    "data_value_unit": "Rate per 100,000 population",
                                                    "stratification1": "Age range", 
                                                    "stratification2": "Ethnicity", 
                                                    "stratification3": "Gender"})
Renamed_CVD_2004_df.head()


# Rename original columns, 2005
Renamed_CVD_2005_df = Clean_CVD_2005_df.rename(columns = {"locationabbr": "US States", 
                                                    "locationdesc": "US County",
                                                    "topic": "CVD Type", 
                                                    "data_value_unit": "Rate per 100,000 population",
                                                    "stratification1": "Age range", 
                                                    "stratification2": "Ethnicity", 
                                                    "stratification3": "Gender"})
Renamed_CVD_2005_df.head()


# Rename original columns, 2006
Renamed_CVD_2006_df = Clean_CVD_2006_df.rename(columns = {"locationabbr": "US States", 
                                                    "locationdesc": "US County",
                                                    "topic": "CVD Type", 
                                                    "data_value_unit": "Rate per 100,000 population",
                                                    "stratification1": "Age range", 
                                                    "stratification2": "Ethnicity", 
                                                    "stratification3": "Gender"})
Renamed_CVD_2006_df.head()


# Rename original columns, 2007
Renamed_CVD_2007_df = Clean_CVD_2007_df.rename(columns = {"locationabbr": "US States", 
                                                    "locationdesc": "US County",
                                                    "topic": "CVD Type", 
                                                    "data_value_unit": "Rate per 100,000 population",
                                                    "stratification1": "Age range", 
                                                    "stratification2": "Ethnicity", 
                                                    "stratification3": "Gender"})
Renamed_CVD_2007_df.head()


# Rename original columns, 2008
Renamed_CVD_2008_df = Clean_CVD_2008_df.rename(columns = {"locationabbr": "US States", 
                                                    "locationdesc": "US County",
                                                    "topic": "CVD Type", 
                                                    "data_value_unit": "Rate per 100,000 population",
                                                    "stratification1": "Age range", 
                                                    "stratification2": "Ethnicity", 
                                                    "stratification3": "Gender"})
Renamed_CVD_2008_df.head()


# Rename original columns, 2009
Renamed_CVD_2009_df = Clean_CVD_2009_df.rename(columns = {"locationabbr": "US States", 
                                                    "locationdesc": "US County",
                                                    "topic": "CVD Type", 
                                                    "data_value_unit": "Rate per 100,000 population",
                                                    "stratification1": "Age range", 
                                                    "stratification2": "Ethnicity", 
                                                    "stratification3": "Gender"})
Renamed_CVD_2009_df.head()


# Rename original columns, 2010
Renamed_CVD_2010_df = Clean_CVD_2010_df.rename(columns = {"locationabbr": "US States", 
                                                    "locationdesc": "US County",
                                                    "topic": "CVD Type", 
                                                    "data_value_unit": "Rate per 100,000 population",
                                                    "stratification1": "Age range", 
                                                    "stratification2": "Ethnicity", 
                                                    "stratification3": "Gender"})
Renamed_CVD_2010_df.head()


# Rename original columns, 2011
Renamed_CVD_2011_df = Clean_CVD_2011_df.rename(columns = {"locationabbr": "US States", 
                                                    "locationdesc": "US County",
                                                    "topic": "CVD Type", 
                                                    "data_value_unit": "Rate per 100,000 population",
                                                    "stratification1": "Age range", 
                                                    "stratification2": "Ethnicity", 
                                                    "stratification3": "Gender"})
Renamed_CVD_2011_df.head()


# Rename original columns, 2012
Renamed_CVD_2012_df = Clean_CVD_2012_df.rename(columns = {"locationabbr": "US States", 
                                                    "locationdesc": "US County",
                                                    "topic": "CVD Type", 
                                                    "data_value_unit": "Rate per 100,000 population",
                                                    "stratification1": "Age range", 
                                                    "stratification2": "Ethnicity", 
                                                    "stratification3": "Gender"})
Renamed_CVD_2012_df.head()


# Rename original columns, 2013
Renamed_CVD_2013_df = Clean_CVD_2013_df.rename(columns = {"locationabbr": "US States", 
                                                    "locationdesc": "US County",
                                                    "topic": "CVD Type", 
                                                    "data_value_unit": "Rate per 100,000 population",
                                                    "stratification1": "Age range", 
                                                    "stratification2": "Ethnicity", 
                                                    "stratification3": "Gender"})
Renamed_CVD_2013_df.head()


# Rename original columns, 2014
Renamed_CVD_2014_df = Clean_CVD_2014_df.rename(columns = {"locationabbr": "US States", 
                                                    "locationdesc": "US County",
                                                    "topic": "CVD Type", 
                                                    "data_value_unit": "Rate per 100,000 population",
                                                    "stratification1": "Age range", 
                                                    "stratification2": "Ethnicity", 
                                                    "stratification3": "Gender"})
Renamed_CVD_2014_df.head()


# Rename original columns, 2015
Renamed_CVD_2015_df = Clean_CVD_2015_df.rename(columns = {"locationabbr": "US States", 
                                                    "locationdesc": "US County",
                                                    "topic": "CVD Type", 
                                                    "data_value_unit": "Rate per 100,000 population",
                                                    "stratification1": "Age range", 
                                                    "stratification2": "Ethnicity", 
                                                    "stratification3": "Gender"})
Renamed_CVD_2015_df.head()


# Rename original columns, 2016
Renamed_CVD_2016_df = Clean_CVD_2016_df.rename(columns = {"locationabbr": "US States", 
                                                    "locationdesc": "US County",
                                                    "topic": "CVD Type", 
                                                    "data_value_unit": "Rate per 100,000 population",
                                                    "stratification1": "Age range", 
                                                    "stratification2": "Ethnicity", 
                                                    "stratification3": "Gender"})
Renamed_CVD_2016_df.head()


# Rename original columns, 2017
Renamed_CVD_2017_df = Clean_CVD_2017_df.rename(columns = {"locationabbr": "US States", 
                                                    "locationdesc": "US County",
                                                    "topic": "CVD Type", 
                                                    "data_value_unit": "Rate per 100,000 population",
                                                    "stratification1": "Age range", 
                                                    "stratification2": "Ethnicity", 
                                                    "stratification3": "Gender"})
Renamed_CVD_2017_df.head()


# Rename original columns, 2018
Renamed_CVD_2018_df = Clean_CVD_2018_df.rename(columns = {"locationabbr": "US States", 
                                                    "locationdesc": "US County",
                                                    "topic": "CVD Type", 
                                                    "data_value_unit": "Rate per 100,000 population",
                                                    "stratification1": "Age range", 
                                                    "stratification2": "Ethnicity", 
                                                    "stratification3": "Gender"})
Renamed_CVD_2018_df.head()


# Rename original columns, 2019
Renamed_CVD_2019_df = Clean_CVD_2019_df.rename(columns = {"locationabbr": "US States", 
                                                    "locationdesc": "US County",
                                                    "topic": "CVD Type", 
                                                    "data_value_unit": "Rate per 100,000 population",
                                                    "stratification1": "Age range", 
                                                    "stratification2": "Ethnicity", 
                                                    "stratification3": "Gender"})
Renamed_CVD_2019_df.head()


# List of all the DataFrame names
dataframes = [
    Renamed_CVD_1999_df, Renamed_CVD_2000_df, Renamed_CVD_2001_df, Renamed_CVD_2002_df,
    Renamed_CVD_2003_df, Renamed_CVD_2004_df, Renamed_CVD_2005_df, Renamed_CVD_2006_df,
    Renamed_CVD_2007_df, Renamed_CVD_2008_df, Renamed_CVD_2009_df, Renamed_CVD_2010_df,
    Renamed_CVD_2011_df, Renamed_CVD_2012_df, Renamed_CVD_2013_df, Renamed_CVD_2014_df,
    Renamed_CVD_2015_df, Renamed_CVD_2016_df, Renamed_CVD_2017_df, Renamed_CVD_2018_df,
    Renamed_CVD_2019_df
]

# Concatenate all DataFrames into one
combined_df = pd.concat(dataframes, ignore_index=True)

# Display the last few rows of the combined DataFrame to check append has worked
combined_df.tail()


# Group by the specified columns and calculate the mean for 'Data_Value/100_000 People' by County
Averaged_grouped_df = combined_df.groupby(
    ['US States', 'year', 'Ethnicity', 'Gender', 'CVD Type', 'Age range'],
    as_index=False
)['data_value'].mean()

# Display the first few rows of the resulting DataFrame
Averaged_grouped_df.head()


# ^^ So basically it takes any rows that have the same values in columns 'US States', 
# 'Year' 'Ethnicity' , 'Gender', 'Heart Disease Type' and 'Age range'
# and finds the average of those rows then returns a data frame with
# one value (average) for the 'Data_Value/100_000 People'.


# Filtered DF to check if above is correct:
# Filter the DataFrame

df = Averaged_grouped_df

filtered_df = df[
    (df['US States'] == 'AK') &
    (df['year'] == 1999.0) &
    (df['Ethnicity'] == 'American Indian/Alaska Native') &
    (df['Gender'] == 'Overall') &
    (df['CVD Type'] == 'All heart disease') &
    (df['Age range'] == 'Ages 65 years and older')
]

filtered_df


# Rename columns to match original:
Averaged_grouped_df = Averaged_grouped_df.rename(columns = {"year": "Year", 
                                                    "CVD Type": "Heart Disease Type",
                                                    "data_value": "Data_Value/100_000 People"})
Averaged_grouped_df.head()


# Show a list of all the different states in the dataset
state_list = Averaged_grouped_df['US States'].unique().tolist()
state_list


Averaged_grouped_df.to_csv('Averaged_Cleaned_filtered_data.csv', index=False)




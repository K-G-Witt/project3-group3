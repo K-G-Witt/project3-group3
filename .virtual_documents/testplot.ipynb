#import dependancies 

import pandas as pd
import matplotlib.pyplot as plt
import seaborn as sns

#https://www.earthdatascience.org/courses/scientists-guide-to-plotting-data-in-python/plot-spatial-data/customize-vector-plots/interactive-leaflet-maps-in-python-folium/


# read csv path
file_path = 'Averaged_Cleaned_filtered_data.csv'




#check to see if its imported 
df = pd.read_csv(file_path)

df.head()



print(df.columns)



#health cases by ethnicity maybe box plot/barchart? 
#isualize the number of cases of strokes and heart disease by the categories ethnicity gender or age range.
#here i just tested to see if i could make a chart with the data overall 
sns.set(style="whitegrid")

plt.figure(figsize=(14, 8))
sns.barplot(x='Ethnicity', y='Data_Value/100_000 People', hue='Heart Disease Type', data=df)


plt.title('Cardiovascular disease risk by US ethnicity major groupings')
plt.xlabel('Ethnicity')
plt.ylabel('Per 100,000 Persons')
plt.xticks(rotation=45)
plt.show()


print(heart_failure_df.head())
print(heart_failure_df.columns)



print(df['Heart Disease Type'].unique())



#filtered barchat
#here i wanted to see if i could grab a specific heart disease and their age range and plot it into a bar chart
df['Heart Disease Type'] = df['Heart Disease Type'].str.strip().str.lower()

heart_failure_df = df[df['Heart Disease Type'] == 'heart failure']  #filter to heart failure 



    sns.set(style="whitegrid")
#plot boxplot 
    plt.figure(figsize=(14, 8))
    sns.barplot(x='Age range', y='Data_Value/100_000 People', hue='Ethnicity', data=heart_failure_df)
    plt.xlabel('age range')
    plt.ylabel('per 100,000 People')
    plt.xticks(rotation=45)
    plt.legend(title='Ethnicity')
    plt.show()



#try group by year and average and plot it onto a linechart 
df['Heart Disease Type'] = df['Heart Disease Type'].str.strip().str.lower()




Heart_disease_rename = ['cardiovascular disease (cvd)', 'coronary heart disease (chd)', 'heart failure']
Averaged_grouped_df = df[df['Heart Disease Type'].str.strip().str.lower().isin(Heart_disease_rename)]



Averaged_grouped_df.loc[:, 'Data_Value/100_000 People'] = pd.to_numeric(Averaged_grouped_df['Data_Value/100_000 People'], errors='coerce')

#group by year 
average_by_year = Averaged_grouped_df.groupby('Year')['Data_Value/100_000 People'].mean().reset_index()


average_by_disease_year = Averaged_grouped_df.groupby(['Heart Disease Type', 'Year'])['Data_Value/100_000 People'].mean().unstack(level=0).reset_index()

#plot the linechart and find the average values 
plt.figure(figsize=(12, 8))

#create a loop through all the diseases and plot each one 
for Heart in Heart_disease_rename:
    Heart_Disease_data = average_by_disease_year.set_index('Year')[Heart]
    plt.plot(Heart_Disease_data.index, Heart_Disease_data, label=Heart)

plt.title('Heart Disease Type per 100,000 Population Between 2009-2019')
plt.xlabel('Years')
plt.ylabel('Heart Disease Rate per 100,000 Population')

plt.grid(True)

#define the limits 
plt.xlim(2009, 2019)
plt.xticks(range(2009, 2020)) #did 2020 because it wouldnt read all through 2019 

plt.show()



#test with hvplot for the linegraoh 




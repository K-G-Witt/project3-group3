{
 "cells": [
  {
   "cell_type": "code",
   "execution_count": 3,
   "id": "692b82d2-b066-446e-8433-ec10b1393fb0",
   "metadata": {},
   "outputs": [
    {
     "ename": "ModuleNotFoundError",
     "evalue": "No module named 'geopy'",
     "output_type": "error",
     "traceback": [
      "\u001b[1;31m---------------------------------------------------------------------------\u001b[0m",
      "\u001b[1;31mModuleNotFoundError\u001b[0m                       Traceback (most recent call last)",
      "Cell \u001b[1;32mIn[3], line 4\u001b[0m\n\u001b[0;32m      2\u001b[0m \u001b[38;5;28;01mimport\u001b[39;00m \u001b[38;5;21;01mpandas\u001b[39;00m \u001b[38;5;28;01mas\u001b[39;00m \u001b[38;5;21;01mpd\u001b[39;00m\n\u001b[0;32m      3\u001b[0m \u001b[38;5;28;01mimport\u001b[39;00m \u001b[38;5;21;01mtime\u001b[39;00m\n\u001b[1;32m----> 4\u001b[0m \u001b[38;5;28;01mfrom\u001b[39;00m \u001b[38;5;21;01mgeopy\u001b[39;00m\u001b[38;5;21;01m.\u001b[39;00m\u001b[38;5;21;01mgeocoders\u001b[39;00m \u001b[38;5;28;01mimport\u001b[39;00m Nominatim\n\u001b[0;32m      5\u001b[0m \u001b[38;5;28;01mfrom\u001b[39;00m \u001b[38;5;21;01mgeopy\u001b[39;00m\u001b[38;5;21;01m.\u001b[39;00m\u001b[38;5;21;01mexc\u001b[39;00m \u001b[38;5;28;01mimport\u001b[39;00m GeocoderTimedOut, GeocoderServiceError\n",
      "\u001b[1;31mModuleNotFoundError\u001b[0m: No module named 'geopy'"
     ]
    }
   ],
   "source": [
    "# Import dependencies\n",
    "import pandas as pd\n",
    "import time\n",
    "from geopy.geocoders import Nominatim\n",
    "from geopy.exc import GeocoderTimedOut, GeocoderServiceError"
   ]
  },
  {
   "cell_type": "code",
   "execution_count": null,
   "id": "b54c8f62-6074-4051-ac11-62de7604e660",
   "metadata": {},
   "outputs": [],
   "source": [
    "# Read CSV data\n",
    "CVD_data = pd.read_csv('Averaged_Cleaned_filtered_data.csv')\n",
    "CVD_data.head(10)"
   ]
  },
  {
   "cell_type": "code",
   "execution_count": null,
   "id": "a6c1aa4b-2f26-4093-8551-a4e2bc6d4e98",
   "metadata": {},
   "outputs": [],
   "source": [
    "# Cache to store lat/lon for state abbreviations\n",
    "cache = {}\n",
    "\n",
    "# Function to get latitude and longitude for a given state abbreviation with retries\n",
    "def get_lat_lon(state_abbr):\n",
    "    if state_abbr in cache:\n",
    "        return cache[state_abbr]\n",
    "\n",
    "    geolocator = Nominatim(user_agent=\"my_geocoder\")\n",
    "    attempts = 0\n",
    "    while attempts < 5:\n",
    "        try:\n",
    "            location = geolocator.geocode(state_abbr + \", USA\")\n",
    "            if location:\n",
    "                cache[state_abbr] = (location.latitude, location.longitude)\n",
    "                return location.latitude, location.longitude\n",
    "            else:\n",
    "                cache[state_abbr] = (None, None)\n",
    "                return None, None\n",
    "        except (GeocoderTimedOut, GeocoderServiceError):\n",
    "            attempts += 1\n",
    "            time.sleep(2 ** attempts)  # Exponential backoff\n",
    "    cache[state_abbr] = (None, None)\n",
    "    return None, None\n",
    "\n",
    "# Add latitude and longitude columns to the DataFrame\n",
    "latitudes = []\n",
    "longitudes = []\n",
    "\n",
    "for state in CVD_data['State']:\n",
    "    lat, lon = get_lat_lon(state)\n",
    "    latitudes.append(lat)\n",
    "    longitudes.append(lon)\n",
    "\n",
    "CVD_data['Latitude'] = latitudes\n",
    "CVD_data['Longitude'] = longitudes"
   ]
  },
  {
   "cell_type": "code",
   "execution_count": null,
   "id": "d6ffa70d-08fe-4766-a57d-b49e4587e925",
   "metadata": {},
   "outputs": [],
   "source": [
    "# Save the updated DataFrame to a new CSV file\n",
    "CVD_data.to_csv('Averaged_Cleaned_filtered_data_with_lat_lon.csv', index=False)"
   ]
  }
 ],
 "metadata": {
  "kernelspec": {
   "display_name": "Python 3 (ipykernel)",
   "language": "python",
   "name": "python3"
  },
  "language_info": {
   "codemirror_mode": {
    "name": "ipython",
    "version": 3
   },
   "file_extension": ".py",
   "mimetype": "text/x-python",
   "name": "python",
   "nbconvert_exporter": "python",
   "pygments_lexer": "ipython3",
   "version": "3.11.7"
  }
 },
 "nbformat": 4,
 "nbformat_minor": 5
}

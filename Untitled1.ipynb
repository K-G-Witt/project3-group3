{
 "cells": [
  {
   "cell_type": "code",
   "execution_count": 1,
   "id": "70e9e89d-125f-4d27-81dd-fb379c3df424",
   "metadata": {},
   "outputs": [
    {
     "name": "stdout",
     "output_type": "stream",
     "text": [
      "  US States  Year Ethnicity  Gender Heart Disease Type  \\\n",
      "0        CA  2020     White    Male              Type1   \n",
      "1        CA  2021     Black  Female              Type2   \n",
      "2        NY  2020     White    Male              Type1   \n",
      "3        NY  2021     Black  Female              Type2   \n",
      "4        TX  2020     White  Female              Type2   \n",
      "5        TX  2021     Black  Female              Type2   \n",
      "6        TX  2021     Black    Male              Type1   \n",
      "\n",
      "   Data_Value/100_000 People  \n",
      "0                      125.0  \n",
      "1                      200.0  \n",
      "2                      120.0  \n",
      "3                      160.0  \n",
      "4                      180.0  \n",
      "5                      170.0  \n",
      "6                      190.0  \n"
     ]
    }
   ],
   "source": [
    "import pandas as pd\n",
    "\n",
    "# Example DataFrame\n",
    "data = {\n",
    "    'US States': ['CA', 'CA', 'CA', 'NY', 'NY', 'TX', 'TX', 'TX'],\n",
    "    'Year': [2020, 2020, 2021, 2020, 2021, 2020, 2021, 2021],\n",
    "    'Ethnicity': ['White', 'White', 'Black', 'White', 'Black', 'White', 'Black', 'Black'],\n",
    "    'Gender': ['Male', 'Male', 'Female', 'Male', 'Female', 'Female', 'Male', 'Female'],\n",
    "    'Heart Disease Type': ['Type1', 'Type1', 'Type2', 'Type1', 'Type2', 'Type2', 'Type1', 'Type2'],\n",
    "    'Data_Value/100_000 People': [100, 150, 200, 120, 160, 180, 190, 170]\n",
    "}\n",
    "df = pd.DataFrame(data)\n",
    "\n",
    "# Group by the specified columns and calculate the mean for 'Data_Value/100_000 People'\n",
    "grouped_df = df.groupby(['US States', 'Year', 'Ethnicity', 'Gender', 'Heart Disease Type'], as_index=False).mean()\n",
    "\n",
    "# Display the resulting DataFrame\n",
    "print(grouped_df)"
   ]
  },
  {
   "cell_type": "code",
   "execution_count": null,
   "id": "af86f07a-e90d-489b-9b75-8b2fe6860a44",
   "metadata": {},
   "outputs": [],
   "source": []
  }
 ],
 "metadata": {
  "kernelspec": {
   "display_name": "Python 3 (ipykernel)",
   "language": "python",
   "name": "python3"
  },
  "language_info": {
   "codemirror_mode": {
    "name": "ipython",
    "version": 3
   },
   "file_extension": ".py",
   "mimetype": "text/x-python",
   "name": "python",
   "nbconvert_exporter": "python",
   "pygments_lexer": "ipython3",
   "version": "3.10.13"
  }
 },
 "nbformat": 4,
 "nbformat_minor": 5
}
